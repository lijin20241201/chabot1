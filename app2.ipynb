{
 "cells": [
  {
   "cell_type": "code",
   "execution_count": 1,
   "id": "76de750d-2cc5-41dc-b167-7e93fe6d6b16",
   "metadata": {},
   "outputs": [],
   "source": [
    "import os # 用于与操作系统交互\n",
    "import signal # 用于处理信号（如中断信号），可以用来优雅地关闭程序。\n",
    "import sys # 提供对解释器使用或维护的一些变量的访问，以及与解释器强烈交互的函数。\n",
    "import time # 提供各种时间相关的功能。\n",
    "from channel import channel_factory # 用于创建不同类型的通信通道。"
   ]
  },
  {
   "cell_type": "code",
   "execution_count": 2,
   "id": "6874073e-b2f0-4a90-b612-ced940206530",
   "metadata": {},
   "outputs": [],
   "source": [
    "from common import const # 可能是定义了一些常量\n",
    "from config import load_config # 用于加载配置文件。\n",
    "import random\n",
    "from plugins import * # 导入所有插件，这通常用于扩展功能。\n",
    "import threading # 用于多线程编程，可以并发执行任务。\n",
    "import ast\n",
    "from config import Config\n",
    "from config import get_root\n",
    "from config import get_appdata_dir"
   ]
  },
  {
   "cell_type": "code",
   "execution_count": 51,
   "id": "7a10c874-cba9-40ca-965a-ed954bc5aed4",
   "metadata": {},
   "outputs": [],
   "source": [
    "from concurrent.futures import Future, ThreadPoolExecutor"
   ]
  },
  {
   "cell_type": "code",
   "execution_count": 52,
   "id": "ebb452c3-af4e-48b8-b7b5-4df732dea53a",
   "metadata": {},
   "outputs": [],
   "source": [
    "handler_pool = ThreadPoolExecutor(max_workers=8)"
   ]
  },
  {
   "cell_type": "code",
   "execution_count": 53,
   "id": "f69b437b-3987-4d31-bac2-9726b77c4696",
   "metadata": {},
   "outputs": [],
   "source": [
    "import  time"
   ]
  },
  {
   "cell_type": "code",
   "execution_count": 2,
   "id": "7a4fd7bd-89a9-4af0-be41-7b85576eb33f",
   "metadata": {},
   "outputs": [],
   "source": [
    "import os, platform,sys"
   ]
  },
  {
   "cell_type": "code",
   "execution_count": 3,
   "id": "272dd8ef-9fc9-4c54-b4b5-b5f9c0cbec89",
   "metadata": {},
   "outputs": [
    {
     "data": {
      "text/plain": [
       "'Linux'"
      ]
     },
     "execution_count": 3,
     "metadata": {},
     "output_type": "execute_result"
    }
   ],
   "source": [
    "platform.system()"
   ]
  },
  {
   "cell_type": "code",
   "execution_count": 3,
   "id": "4ea99870-2934-49a4-bb84-f81f3bb11afd",
   "metadata": {},
   "outputs": [
    {
     "name": "stdout",
     "output_type": "stream",
     "text": [
      "█\r"
     ]
    }
   ],
   "source": [
    "try:\n",
    "    b = u'\\u2588' # 定义一个Unicode方块字符\n",
    "    sys.stdout.write(b + '\\r')  # 将方块字符输出到标准输出\n",
    "    sys.stdout.flush() # 刷新输出\n",
    "except UnicodeEncodeError:\n",
    "    BLOCK = 'MM'  # 如果输出失败，使用'MM'作为替代\n",
    "else:  # 如果成功，使用方块字符\n",
    "    BLOCK = b"
   ]
  },
  {
   "cell_type": "code",
   "execution_count": 49,
   "id": "8431861e-0b22-4c45-af64-79ebee20cb3a",
   "metadata": {},
   "outputs": [],
   "source": [
    "def print_cmd_qr(qrText, white=BLOCK, black='  ', enableCmdQR=True):\n",
    "    blockCount = int(enableCmdQR)  # 控制是否启用命令行二维码，1表示启用，0表示不启用\n",
    "    if abs(blockCount) == 0:\n",
    "        blockCount = 1 # 如果 blockCount 为 0（即二维码未启用），则 blockCount 被重新设置为 1，确保至少绘制一个块（默认行为）。\n",
    "    white *= abs(blockCount) # 根据 blockCount 调整白色块的大小\n",
    "    if blockCount < 0:\n",
    "        white, black = black, white  # 如果 blockCount 为负，交换黑白块颜色\n",
    "    sys.stdout.write(' '*50 + '\\r')  # 清除当前行内容\n",
    "    sys.stdout.flush() # 刷新输出缓冲区\n",
    "    qr = qrText.replace('0', white).replace('1', black)  # 根据 qrText 替换 '0' 和 '1' 为相应的块字符\n",
    "    print(qr)\n",
    "    sys.stdout.write(qr) # 打印生成的二维码文本\n",
    "    sys.stdout.flush()  # 刷新输出缓冲区"
   ]
  },
  {
   "cell_type": "code",
   "execution_count": 13,
   "id": "b27a28a3-4d44-4158-a891-497d0b5f6977",
   "metadata": {},
   "outputs": [],
   "source": [
    "import requests"
   ]
  },
  {
   "cell_type": "code",
   "execution_count": 14,
   "id": "05a42d1f-0438-4495-9b69-23782bb37d51",
   "metadata": {},
   "outputs": [],
   "source": [
    "s=requests.Session()"
   ]
  },
  {
   "cell_type": "code",
   "execution_count": 17,
   "id": "f2b41b30-2065-4267-9a8a-559d09e9364b",
   "metadata": {},
   "outputs": [],
   "source": [
    "USER_AGENT = 'Mozilla/5.0 (Macintosh; Intel Mac OS X 10_11_6) AppleWebKit/537.36 (KHTML, like Gecko) Chrome/54.0.2840.71 Safari/537.36'"
   ]
  },
  {
   "cell_type": "code",
   "execution_count": 20,
   "id": "eaf66fff-51df-4895-81a5-c72c63668362",
   "metadata": {},
   "outputs": [],
   "source": [
    "BASE_URL = 'https://login.weixin.qq.com'"
   ]
  },
  {
   "cell_type": "code",
   "execution_count": null,
   "id": "50e1846b-1466-4acf-9722-224fa034e47b",
   "metadata": {},
   "outputs": [],
   "source": [
    "https://login.wx.qq.com/jslogin?appid=wx782c26e4c19acffb&redirect_uri=https%3A%2F%2Flogin.weixin.qq.com%2Fcgi-bin%2Fmmwebwx-bin%2Fwebwxnewloginpage&fun=new&lang=zh_CN&_=1736386032062"
   ]
  },
  {
   "cell_type": "code",
   "execution_count": 23,
   "id": "7c18784a-afb8-44bf-9e99-78dc6859307f",
   "metadata": {},
   "outputs": [],
   "source": [
    "encoded_url='https%3A%2F%2Flogin.weixin.qq.com%2Fcgi-bin%2Fmmwebwx-bin%2Fwebwxnewloginpage'"
   ]
  },
  {
   "cell_type": "code",
   "execution_count": 24,
   "id": "f423dd25-5f3c-4f30-aec6-73039282edb6",
   "metadata": {},
   "outputs": [
    {
     "name": "stdout",
     "output_type": "stream",
     "text": [
      "https://login.weixin.qq.com/cgi-bin/mmwebwx-bin/webwxnewloginpage\n"
     ]
    }
   ],
   "source": [
    "import urllib.parse\n",
    "decoded_url = urllib.parse.unquote(encoded_url)\n",
    "print(decoded_url)"
   ]
  },
  {
   "cell_type": "code",
   "execution_count": 27,
   "id": "f570dc99-f4b3-46d4-8728-87c82faf295e",
   "metadata": {},
   "outputs": [],
   "source": [
    "import re"
   ]
  },
  {
   "cell_type": "code",
   "execution_count": 34,
   "id": "0aa66a71-f18d-4889-a0e8-19f257c6994b",
   "metadata": {},
   "outputs": [],
   "source": [
    "def get_QRuuid():\n",
    "    url = '%s/jslogin' % BASE_URL # 构造获取二维码 UUID 的请求 URL\n",
    "    params = {\n",
    "        'appid': 'wx782c26e4c19acffb',  # 微信登录的应用 ID\n",
    "        'fun': 'new', # 指定功能为新登录\n",
    "        'redirect_uri': 'https://login.weixin.qq.com/cgi-bin/mmwebwx-bin/webwxnewloginpage?mod=desktop',  # 重定向 URL\n",
    "        'lang': 'zh_CN'}  # 指定语言为中文\n",
    "    headers = {'User-Agent':USER_AGENT} # 设置请求头，指定用户代理\n",
    "    r = s.get(url, params=params, headers=headers) # 发送 GET 请求获取登录页面数据\n",
    "    print(r.text)\n",
    "    # 使用正则表达式提取返回数据中的 'code' 和 'uuid'\n",
    "    regx = r'window.QRLogin.code = (\\d+); window.QRLogin.uuid = \"(\\S+?)\";'\n",
    "    # 用于在响应文本 r.text 中通过正则表达式 regx 查找特定模式并提取出相应的数据。\n",
    "    data = re.search(regx, r.text) \n",
    "    if data and data.group(1) == '200': # 如果提取成功且返回码为 200\n",
    "        uuid = data.group(2) # 保存 'uuid' 到实例变量\n",
    "        return uuid # 返回获取到的 'uuid'"
   ]
  },
  {
   "cell_type": "code",
   "execution_count": 43,
   "id": "a75782a0-a007-4fea-8490-7a7f01e248f8",
   "metadata": {},
   "outputs": [],
   "source": [
    "import base64"
   ]
  },
  {
   "cell_type": "code",
   "execution_count": 46,
   "id": "ebe01f6d-6153-427d-b0ee-1a52e67f1097",
   "metadata": {},
   "outputs": [
    {
     "name": "stdout",
     "output_type": "stream",
     "text": [
      "b'\\xe1\\x9bF\\x90\\xc51\\xc9'\n"
     ]
    }
   ],
   "source": [
    "decoded_bytes = base64.b64decode(uuid)\n",
    "print(decoded_bytes)"
   ]
  },
  {
   "cell_type": "code",
   "execution_count": 56,
   "id": "c691d847-9cb9-4eab-8126-14ffc1739ef6",
   "metadata": {},
   "outputs": [],
   "source": [
    "import io\n",
    "from pyqrcode import QRCode"
   ]
  },
  {
   "cell_type": "code",
   "execution_count": 60,
   "id": "d22e5c9d-aece-4f28-98a2-016460b9d922",
   "metadata": {},
   "outputs": [],
   "source": [
    "import subprocess"
   ]
  },
  {
   "cell_type": "code",
   "execution_count": 61,
   "id": "1ab9ae98-fd5f-4b77-86f6-b6e0a2d60683",
   "metadata": {},
   "outputs": [],
   "source": [
    "def print_qr(fileDir):\n",
    "    subprocess.call(['xdg-open', fileDir])   # Linux：使用 xdg-open 命令打开文件。"
   ]
  },
  {
   "cell_type": "code",
   "execution_count": 70,
   "id": "452bd2eb-77f3-4335-a57f-ce86ef4d029c",
   "metadata": {},
   "outputs": [],
   "source": [
    "def get_QR(uuid=None, enableCmdQR=True, picDir=None, qrCallback=None):\n",
    "    uuid = uuid \n",
    "    picDir = 'QR.png'\n",
    "    qrStorage = io.BytesIO()\n",
    "    qrCode = QRCode('https://login.weixin.qq.com/l/' + uuid)\n",
    "    qrCode.png(qrStorage, scale=10)\n",
    "    if hasattr(qrCallback, '__call__'):\n",
    "        qrCallback(uuid=uuid, status='0', qrcode=qrStorage.getvalue())\n",
    "    else:\n",
    "        with open(picDir, 'wb') as f:\n",
    "            f.write(qrStorage.getvalue())\n",
    "        if enableCmdQR:\n",
    "           print_cmd_qr(qrCode.text(1), enableCmdQR=enableCmdQR)\n",
    "        else:\n",
    "            print_qr(picDir)\n",
    "    return qrStorage"
   ]
  },
  {
   "cell_type": "code",
   "execution_count": null,
   "id": "e298ecfb-779a-4708-a97c-0420bf0fe6e1",
   "metadata": {},
   "outputs": [],
   "source": [
    "ab=get_QR(uuid)"
   ]
  },
  {
   "cell_type": "code",
   "execution_count": 47,
   "id": "881536fb-6065-4d98-907b-e335349bcee4",
   "metadata": {},
   "outputs": [
    {
     "name": "stdout",
     "output_type": "stream",
     "text": [
      "文件已保存为 output_file.bin\n"
     ]
    }
   ],
   "source": [
    "with open('output_file.bin', 'wb') as f:\n",
    "    f.write(decoded_bytes)\n",
    "print(\"文件已保存为 output_file.bin\")"
   ]
  },
  {
   "cell_type": "code",
   "execution_count": 35,
   "id": "e33fe166-d670-4641-900a-ecebe7fde5e4",
   "metadata": {},
   "outputs": [
    {
     "name": "stdout",
     "output_type": "stream",
     "text": [
      "window.QRLogin.code = 200; window.QRLogin.uuid = \"4ZtGkMUxyQ==\";\n"
     ]
    }
   ],
   "source": [
    "aa=get_QRuuid()"
   ]
  },
  {
   "cell_type": "code",
   "execution_count": 44,
   "id": "d7ebf37e-2b0e-417f-a41b-55a92c380903",
   "metadata": {},
   "outputs": [],
   "source": [
    "uuid='4ZtGkMUxyQ=='"
   ]
  },
  {
   "cell_type": "code",
   "execution_count": 74,
   "id": "966bd7fc-7f6e-4abc-8e76-af9497f391fa",
   "metadata": {},
   "outputs": [
    {
     "data": {
      "text/plain": [
       "'https://login.weixin.qq.com/cgi-bin/mmwebwx-bin/login'"
      ]
     },
     "execution_count": 74,
     "metadata": {},
     "output_type": "execute_result"
    }
   ],
   "source": [
    "'%s/cgi-bin/mmwebwx-bin/login' % BASE_URL "
   ]
  },
  {
   "cell_type": "code",
   "execution_count": 76,
   "id": "4e4aac60-b335-4fa4-99b6-ed89199dae07",
   "metadata": {},
   "outputs": [],
   "source": [
    "import time"
   ]
  },
  {
   "cell_type": "code",
   "execution_count": 77,
   "id": "a2863c63-fa4c-457c-887d-d8999f7f04ef",
   "metadata": {},
   "outputs": [
    {
     "data": {
      "text/plain": [
       "1736393002"
      ]
     },
     "execution_count": 77,
     "metadata": {},
     "output_type": "execute_result"
    }
   ],
   "source": [
    "int(time.time())"
   ]
  },
  {
   "cell_type": "code",
   "execution_count": 81,
   "id": "35d83493-df2e-47ec-9607-1cb81d0cd6aa",
   "metadata": {},
   "outputs": [],
   "source": [
    "BASE_URL= 'https://login.weixin.qq.com'"
   ]
  },
  {
   "cell_type": "code",
   "execution_count": 86,
   "id": "eaed56b1-0980-4405-a8f1-541b97f0ab30",
   "metadata": {},
   "outputs": [],
   "source": [
    "s = requests.Session()"
   ]
  },
  {
   "cell_type": "code",
   "execution_count": 102,
   "id": "f974ecf6-a6fc-4cc5-9995-a8c35dacb926",
   "metadata": {},
   "outputs": [
    {
     "data": {
      "text/plain": [
       "['https://file.wx2.qq.com/cgi-bin/mmwebwx-bin',\n",
       " 'https://webpush.wx2.qq.com/cgi-bin/mmwebwx-bin']"
      ]
     },
     "execution_count": 102,
     "metadata": {},
     "output_type": "execute_result"
    }
   ],
   "source": [
    "['https://%s/cgi-bin/mmwebwx-bin' % url for url in ('file.wx2.qq.com', 'webpush.wx2.qq.com')]"
   ]
  },
  {
   "cell_type": "code",
   "execution_count": 104,
   "id": "132ff78d-acbf-4f58-8cbf-c9aea85710a6",
   "metadata": {},
   "outputs": [],
   "source": [
    "import random"
   ]
  },
  {
   "cell_type": "code",
   "execution_count": 105,
   "id": "fa5dd494-e58e-4210-bc72-06f0f2537db9",
   "metadata": {},
   "outputs": [
    {
     "data": {
      "text/plain": [
       "'e001160098909003'"
      ]
     },
     "execution_count": 105,
     "metadata": {},
     "output_type": "execute_result"
    }
   ],
   "source": [
    "'e' + repr(random.random())[2:17]"
   ]
  },
  {
   "cell_type": "code",
   "execution_count": null,
   "id": "021ee0b0-7a4a-400c-81e4-a1c20264ea87",
   "metadata": {},
   "outputs": [],
   "source": [
    "for indexUrl, detailedUrl in (\n",
    "            (\"wx2.qq.com\", (\"file.wx2.qq.com\", \"webpush.wx2.qq.com\")),\n",
    "            (\"wx8.qq.com\", (\"file.wx8.qq.com\", \"webpush.wx8.qq.com\")),\n",
    "            (\"qq.com\", (\"file.wx.qq.com\", \"webpush.wx.qq.com\")),\n",
    "            (\"web2.wechat.com\", (\"file.web2.wechat.com\", \"webpush.web2.wechat.com\")),\n",
    "            (\"wechat.com\", (\"file.web.wechat.com\", \"webpush.web.wechat.com\"))):\n",
    "    print(detailedUrl)\n",
    "    fileUrl, syncUrl = ['https://%s/cgi-bin/mmwebwx-bin' % url for url in detailedUrl]\n",
    "    print(fileUrl)\n",
    "    print(syncUrl)"
   ]
  },
  {
   "cell_type": "code",
   "execution_count": 95,
   "id": "949277dc-e5b6-4317-b65f-d76a8f136033",
   "metadata": {},
   "outputs": [],
   "source": [
    "def check_login(uuid=None):\n",
    "    uuid = uuid\n",
    "    url = '%s/cgi-bin/mmwebwx-bin/login' % BASE_URL \n",
    "    localTime = int(time.time()) # 获取当前的时间戳，用于构建请求参数中的时间部分\n",
    "    params = 'loginicon=true&uuid=%s&tip=1&r=%s&_=%s' % ( # 构造请求参数字符串，包含 uuid、时间戳、tip 和其他参数\n",
    "        uuid, int(-localTime / 1579), localTime)\n",
    "    headers = {'User-Agent': USER_AGENT} # 设置请求头，指定 User-Agent\n",
    "    r = s.get(url, params=params, headers=headers) # 发送 GET 请求进行登录检查\n",
    "    regx = r'window.code=(\\d+)' # 使用正则表达式从响应中提取返回的 'code' 值\n",
    "    data = re.search(regx, r.text) # 搜索并提取 'code' 的值\n",
    "    if data and data.group(1) == '200': # 如果返回码是 200，说明登录成功\n",
    "        if process_login_info(self, r.text): # 处理登录信息并返回 '200'\n",
    "            return '200'\n",
    "        else:\n",
    "            return '400'  # 登录信息处理失败\n",
    "    elif data: # 如果返回的 code 不是 200，则返回提取到的 'code' 值\n",
    "        return data.group(1)\n",
    "    else: # 如果没有匹配到返回的 code，则返回 400\n",
    "        return '400'"
   ]
  },
  {
   "cell_type": "code",
   "execution_count": 97,
   "id": "e465b705-6489-40af-92d3-762abcb09da7",
   "metadata": {},
   "outputs": [
    {
     "name": "stdout",
     "output_type": "stream",
     "text": [
      "400\n"
     ]
    },
    {
     "data": {
      "text/plain": [
       "'400'"
      ]
     },
     "execution_count": 97,
     "metadata": {},
     "output_type": "execute_result"
    }
   ],
   "source": [
    "check_login(uuid)"
   ]
  },
  {
   "cell_type": "code",
   "execution_count": 96,
   "id": "82a82258-6570-4072-a047-6fed5e2984c0",
   "metadata": {},
   "outputs": [],
   "source": [
    "import uuid\n",
    "# 生成一个随机 UUID\n",
    "random_uuid = str(uuid.uuid4())"
   ]
  },
  {
   "cell_type": "code",
   "execution_count": null,
   "id": "35099efa-f26b-4e1b-bb72-2e5945618a62",
   "metadata": {},
   "outputs": [],
   "source": [
    "import asyncio\n",
    "import threading\n",
    "async def async_task(thread_name):\n",
    "    await asyncio.sleep(1)\n",
    "    return f\"Task completed in {thread_name}\"\n",
    "def thread_function(thread_name):\n",
    "    loop = asyncio.new_event_loop()\n",
    "    asyncio.set_event_loop(loop)\n",
    "    print(f\"Event loop running in {thread_name}\")\n",
    "    # 调度异步任务\n",
    "    future = asyncio.run_coroutine_threadsafe(async_task(thread_name), loop)\n",
    "    result = future.result()  # 阻塞直到任务完成\n",
    "    print(result)\n",
    "    loop.close()\n",
    "\n",
    "# 创建并启动多个线程，每个线程都有自己的事件循环\n",
    "threads = []\n",
    "for i in range(5):\n",
    "    thread_name = f\"Thread-{i+1}\"\n",
    "    thread = threading.Thread(target=thread_function, args=(thread_name,))\n",
    "    threads.append(thread)\n",
    "    thread.start()\n",
    "# 等待所有线程完成\n",
    "for thread in threads:\n",
    "    thread.join()\n",
    "print(\"All threads completed\")"
   ]
  },
  {
   "cell_type": "code",
   "execution_count": null,
   "id": "588f6190-b93d-4738-add7-07d9829235a4",
   "metadata": {},
   "outputs": [],
   "source": [
    "for i,j in os.environ.items():\n",
    "    print(i,j)"
   ]
  },
  {
   "cell_type": "code",
   "execution_count": 3,
   "id": "39a9f502-4a6b-4fac-9b6f-0b6a3d4267eb",
   "metadata": {},
   "outputs": [
    {
     "name": "stdout",
     "output_type": "stream",
     "text": [
      "主线程继续执行\n",
      "异步任务执行中\n",
      "异步任务完成\n"
     ]
    }
   ],
   "source": [
    "import asyncio\n",
    "import threading\n",
    "# 定义一个异步协程\n",
    "async def my_coroutine():\n",
    "    print(\"异步任务执行中\")\n",
    "    await asyncio.sleep(1)\n",
    "    print(\"异步任务完成\")\n",
    "# 在子线程中调度协程\n",
    "def run_in_thread(loop):\n",
    "    asyncio.run_coroutine_threadsafe(my_coroutine(), loop)\n",
    "# 主线程中的事件循环\n",
    "loop = asyncio.get_event_loop()\n",
    "# 创建并启动一个后台线程\n",
    "thread = threading.Thread(target=run_in_thread, args=(loop,))\n",
    "thread.start()\n",
    "# 继续执行主线程中的任务\n",
    "print(\"主线程继续执行\")\n",
    "# 等待子线程完成\n",
    "thread.join()"
   ]
  },
  {
   "cell_type": "code",
   "execution_count": 43,
   "id": "1235b74d-a178-48d5-b8cc-69a727cdd98b",
   "metadata": {},
   "outputs": [],
   "source": [
    "a={1:2,3:4}"
   ]
  },
  {
   "cell_type": "code",
   "execution_count": 45,
   "id": "52789cf4-4944-401e-a625-edccd875b0ed",
   "metadata": {},
   "outputs": [],
   "source": [
    "a.clear()"
   ]
  },
  {
   "cell_type": "code",
   "execution_count": 37,
   "id": "bf1a5b28-9541-4e4b-ab2b-17f65933d957",
   "metadata": {},
   "outputs": [],
   "source": [
    "b='' or '默认'"
   ]
  },
  {
   "cell_type": "code",
   "execution_count": 47,
   "id": "d8586369-e15e-4d7e-8db9-2b564359b65e",
   "metadata": {},
   "outputs": [],
   "source": [
    "a=[1,2,3]"
   ]
  },
  {
   "cell_type": "code",
   "execution_count": 49,
   "id": "32294375-b6f9-4244-bcc5-5b289196f52b",
   "metadata": {},
   "outputs": [],
   "source": [
    "a=[1]"
   ]
  },
  {
   "cell_type": "code",
   "execution_count": 34,
   "id": "30ce7f96-cd4a-4d1d-b1b0-bb3302c71bc1",
   "metadata": {},
   "outputs": [
    {
     "name": "stdout",
     "output_type": "stream",
     "text": [
      "1\n"
     ]
    }
   ],
   "source": [
    "if not b:\n",
    "    print(1)"
   ]
  },
  {
   "cell_type": "code",
   "execution_count": 40,
   "id": "42b5bb1b-4ff1-458f-9065-e387e3d53716",
   "metadata": {
    "scrolled": true
   },
   "outputs": [
    {
     "data": {
      "text/plain": [
       "False"
      ]
     },
     "execution_count": 40,
     "metadata": {},
     "output_type": "execute_result"
    }
   ],
   "source": [
    "b is None"
   ]
  },
  {
   "cell_type": "code",
   "execution_count": 15,
   "id": "58cb8b63-c97d-414b-a77c-a5228149b919",
   "metadata": {},
   "outputs": [],
   "source": [
    "a=b or '默认'"
   ]
  },
  {
   "cell_type": "code",
   "execution_count": 50,
   "id": "e0bd450c-574a-4a30-98e4-16d192beb1ea",
   "metadata": {},
   "outputs": [
    {
     "data": {
      "text/plain": [
       "[1]"
      ]
     },
     "execution_count": 50,
     "metadata": {},
     "output_type": "execute_result"
    }
   ],
   "source": [
    "a"
   ]
  },
  {
   "cell_type": "code",
   "execution_count": 9,
   "id": "312bccb1-f745-49c3-80e7-bad3402c939e",
   "metadata": {},
   "outputs": [
    {
     "data": {
      "text/plain": [
       "2"
      ]
     },
     "execution_count": 9,
     "metadata": {},
     "output_type": "execute_result"
    }
   ],
   "source": [
    "a.pop(0)"
   ]
  },
  {
   "cell_type": "code",
   "execution_count": 2,
   "id": "f0642672-530b-45db-b68a-fe5b14b3a30b",
   "metadata": {},
   "outputs": [],
   "source": [
    "a.append(1)"
   ]
  },
  {
   "cell_type": "code",
   "execution_count": 4,
   "id": "0f698c71-412e-41ba-b483-832ed716ace5",
   "metadata": {},
   "outputs": [],
   "source": [
    "a.insert(0,3)"
   ]
  },
  {
   "cell_type": "code",
   "execution_count": null,
   "id": "c3713a8e-b1d0-4f66-ada8-c89a66420a34",
   "metadata": {},
   "outputs": [],
   "source": [
    "future = asyncio.run_coroutine_threadsafe(my_coroutine(), loop)\n",
    "# 获取协程结果\n",
    "result = future.result()  # 阻塞直到协程完成"
   ]
  },
  {
   "cell_type": "code",
   "execution_count": null,
   "id": "093b7ab0-f136-4ac8-adfb-ec70662d04d2",
   "metadata": {},
   "outputs": [],
   "source": [
    "# !pip install wechaty"
   ]
  },
  {
   "cell_type": "code",
   "execution_count": 9,
   "id": "c9e05cd2-d2c5-48e6-92d4-0a9c5dc3b3ae",
   "metadata": {},
   "outputs": [],
   "source": [
    "class TrieNode():\n",
    "    def __init__(self):\n",
    "        self.Index = 0\n",
    "        self.Layer = 0 # 节点所在的层级。\n",
    "        self.End = False # 标记节点是否是敏感词的结尾\n",
    "        self.Char = '' # 该节点对应的字符。\n",
    "        # 假设我们有敏感词列表：[\"ab\", \"abc\", \"abcd\"]。a 节点是所有三个敏感词的开始（即 \"ab\", \"abc\", \"abcd\"）。\n",
    "        # 但是，a 不是任何一个敏感词的结尾节点。 因此，a 节点的 Results 列表应该是空的，即 Results = []\n",
    "        # d 节点是 \"abcd\" 的结尾节点。同时，d 也是 \"ab\", \"abc\", \"abcd\" 这三个敏感词的结尾节点。\n",
    "        # d 节点的 Results 列表应该包含所有三个敏感词的索引：[0, 1, 2]，分别表示 \"ab\"（索引 0）、\n",
    "        # \"abc\"（索引 1）、和 \"abcd\"（索引 2）。\n",
    "        self.Results = [] # 如果当前节点不是任何敏感词的结尾,results是空列表,如果是,results存储敏感词对应的索引\n",
    "        self.m_values = {} # m_values 存储当前节点的子节点的字典，键是字符的 ASCII 值，值是子节点。\n",
    "        self.Failure = None # Failure 指向失配的下一个节点，用于 Aho-Corasick 算法的优化。\n",
    "        self.Parent = None  # 父节点\n",
    "    # Add 方法用来添加新的字符节点到当前节点的子节点字典 m_values 中。\n",
    "    def Add(self,c):\n",
    "        # 如果该字符节点已经存在，直接返回现有节点\n",
    "        if c in self.m_values :\n",
    "            return self.m_values[c] \n",
    "        node = TrieNode()  # 创建一个新的子节点\n",
    "        node.Parent = self  # 设置父节点\n",
    "        node.Char = c # 设置节点字符\n",
    "        self.m_values[c] = node # 将子节点添加到 m_values 字典\n",
    "        return node # 返回新节点\n",
    "    \n",
    "    def SetResults(self,index): # index是节点是敏感词结尾，对应的敏感词的索引\n",
    "        if (self.End == False): # 如果当前节点不是敏感词结尾\n",
    "            self.End = True  # 将当前节点标记为敏感词结尾\n",
    "        self.Results.append(index) # 将当前敏感词的索引添加到结果列表"
   ]
  },
  {
   "cell_type": "code",
   "execution_count": 51,
   "id": "a271d595-31fa-48c9-8006-f0c6285f3099",
   "metadata": {},
   "outputs": [],
   "source": [
    "root = TrieNode() # 初始化树根"
   ]
  },
  {
   "cell_type": "code",
   "execution_count": 52,
   "id": "69e49c4b-d9a3-4674-ae60-18f6ae57d103",
   "metadata": {},
   "outputs": [],
   "source": [
    "keywords=['nipples','法轮功','功夫','敏感词','敏感']"
   ]
  },
  {
   "cell_type": "code",
   "execution_count": 53,
   "id": "412eb40c-fe16-4501-b02f-bc20fb2390e7",
   "metadata": {},
   "outputs": [],
   "source": [
    "allNodeLayer={} # 用于存储所有节点按层级分组\n",
    "for i in range(len(keywords)): # 遍历所有敏感词\n",
    "    p = keywords[i] # 获取索引对应的敏感词\n",
    "    nd = root # 从根节点开始(所有敏感词的根节点)\n",
    "    for j in range(len(p)):  # 遍历每个敏感词的字符\n",
    "        nd = nd.Add(ord(p[j])) # 添加字符节点,这时nd从上个父节点指向了新节点(刚刚创建的子节点)\n",
    "        if (nd.Layer == 0):\n",
    "            nd.Layer = j + 1 # 设置节点层级\n",
    "            if nd.Layer in allNodeLayer: # 如果当前层在里面\n",
    "                allNodeLayer[nd.Layer].append(nd) # 追加\n",
    "            else: # 否则新建\n",
    "                allNodeLayer[nd.Layer] = [nd] \n",
    "    nd.SetResults(i) "
   ]
  },
  {
   "cell_type": "code",
   "execution_count": 74,
   "id": "d4207757-9c85-4202-8b33-f724a649a16e",
   "metadata": {},
   "outputs": [],
   "source": [
    "allNode = [root]  # 包含根节点"
   ]
  },
  {
   "cell_type": "code",
   "execution_count": 76,
   "id": "c665240f-53d6-4c4e-8a1e-be6bd71f7aac",
   "metadata": {},
   "outputs": [
    {
     "data": {
      "text/plain": [
       "[]"
      ]
     },
     "execution_count": 76,
     "metadata": {},
     "output_type": "execute_result"
    }
   ],
   "source": [
    "allNode[0].Results"
   ]
  },
  {
   "cell_type": "code",
   "execution_count": 56,
   "id": "a0cb8e2e-09d3-4626-8125-4684a230496d",
   "metadata": {},
   "outputs": [
    {
     "data": {
      "text/plain": [
       "[4]"
      ]
     },
     "execution_count": 56,
     "metadata": {},
     "output_type": "execute_result"
    }
   ],
   "source": [
    "\n",
    "        for key in allNodeLayer.keys():  # 遍历所有层级的节点\n",
    "            allNode.extend(allNodeLayer[key])"
   ]
  },
  {
   "cell_type": "code",
   "execution_count": 4,
   "id": "5ede590d-531a-4b2e-80dc-1694925f84fc",
   "metadata": {},
   "outputs": [],
   "source": [
    "def sigterm_handler_wrap(_signo):\n",
    "    old_handler = signal.getsignal(_signo) # 获取旧的信号处理器\n",
    "    # 定义新的信号处理器,参数:第一个是信号编号，第二个是被中断的堆栈帧。\n",
    "    def func(_signo, _stack_frame):\n",
    "        # 记录日志\n",
    "        logger.info(\"signal {} received, exiting...\".format(_signo))\n",
    "        # 保存用户数据到文件中。\n",
    "        conf().save_user_datas()\n",
    "        # 判断old_handler是否可调用\n",
    "        if callable(old_handler):\n",
    "            return old_handler(_signo, _stack_frame)\n",
    "        # 这个在old_handler不可调用时执行,退出程序\n",
    "        sys.exit(0)\n",
    "    #将新定义的处理器 func 注册为信号 _signo 的处理器。\n",
    "    signal.signal(_signo, func) "
   ]
  },
  {
   "cell_type": "code",
   "execution_count": 5,
   "id": "6d390dce-3c13-43ab-b520-a1ac793e82d7",
   "metadata": {},
   "outputs": [],
   "source": [
    "from common import singleton\n",
    "from channel.chat_channel import ChatChannel"
   ]
  },
  {
   "cell_type": "code",
   "execution_count": null,
   "id": "faec13a9-fd9a-4c3a-a3f9-1f318310f61c",
   "metadata": {},
   "outputs": [],
   "source": [
    "class Channel:\n",
    "    channel_type = \"default\"  # 类属性\n",
    "\n",
    "    def __init__(self, name):\n",
    "        self.name = name  # 实例属性\n",
    "# 创建两个实例\n",
    "channel1 = Channel(\"Channel 1\")\n",
    "channel2 = Channel(\"Channel 2\")\n",
    "# 访问类属性\n",
    "print(Channel.channel_type)  # 输出: default\n",
    "print(channel1.channel_type)  # 输出: default\n",
    "print(channel2.channel_type)  # 输出: default\n",
    "# 修改类属性\n",
    "Channel.channel_type = \"updated\"\n",
    "# 所有实例的类属性都被更新\n",
    "print(Channel.channel_type)  # 输出: updated\n",
    "print(channel1.channel_type)  # 输出: updated\n",
    "print(channel2.channel_type)  # 输出: updated\n",
    "# 修改实例属性\n",
    "channel1.name = \"New Channel 1\"\n",
    "print(channel1.name)  # 输出: New Channel 1\n",
    "print(channel2.name)  # 输出: Channel 2"
   ]
  },
  {
   "cell_type": "code",
   "execution_count": 11,
   "id": "4a2fdf1d-ba85-49a2-a29a-71b2c7a89eea",
   "metadata": {},
   "outputs": [],
   "source": [
    "from enum import Enum\n",
    "class ReplyType(Enum):\n",
    "    TEXT = 1  # 文本\n",
    "    VOICE = 2  # 音频文件\n",
    "    IMAGE = 3  # 图片文件\n",
    "    IMAGE_URL = 4  # 图片URL\n",
    "    VIDEO_URL = 5  # 视频URL\n",
    "    FILE = 6  # 文件\n",
    "    CARD = 7  # 微信名片，仅支持ntchat\n",
    "    INVITE_ROOM = 8  # 邀请好友进群\n",
    "    INFO = 9 # 一般的日志\n",
    "    ERROR = 10 # 出错的日志\n",
    "    TEXT_ = 11  # 强制文本\n",
    "    VIDEO = 12 # 视频文件\n",
    "    MINIAPP = 13  # 小程序\n",
    "    def __str__(self):\n",
    "        return self.name"
   ]
  },
  {
   "cell_type": "code",
   "execution_count": 15,
   "id": "1f0345d5-482d-4db2-bf17-5d026d3b976e",
   "metadata": {},
   "outputs": [],
   "source": [
    "class Reply:\n",
    "    def __init__(self, type: ReplyType = None, content=None):\n",
    "        self.type = type\n",
    "        self.content = content\n",
    "\n",
    "    def __str__(self):\n",
    "        return \"Reply(type={}, content={})\".format(self.type, self.content)"
   ]
  },
  {
   "cell_type": "code",
   "execution_count": 16,
   "id": "f1310c84-c9ff-453c-ade9-d6a82d109609",
   "metadata": {},
   "outputs": [],
   "source": [
    "r=Reply(ReplyType.TEXT,'hello')"
   ]
  },
  {
   "cell_type": "code",
   "execution_count": 19,
   "id": "df62a825-5ef0-44db-89e8-51066f37035e",
   "metadata": {},
   "outputs": [],
   "source": [
    "class ContextType(Enum): # 消息类型\n",
    "    TEXT = 1  # 文本消息\n",
    "    VOICE = 2  # 音频消息\n",
    "    IMAGE = 3  # 图片消息\n",
    "    FILE = 4  # 文件信息\n",
    "    VIDEO = 5  # 视频信息\n",
    "    SHARING = 6  # 分享信息\n",
    "    IMAGE_CREATE = 10  # 创建图片命令\n",
    "    ACCEPT_FRIEND = 19 # 同意好友请求\n",
    "    JOIN_GROUP = 20  # 加入群聊\n",
    "    PATPAT = 21  # 拍了拍\n",
    "    FUNCTION = 22  # 函数调用\n",
    "    EXIT_GROUP = 23 # 退出群\n",
    "\n",
    "    def __str__(self):\n",
    "        return self.name"
   ]
  },
  {
   "cell_type": "code",
   "execution_count": 36,
   "id": "ebf33675-3490-4f60-88bc-174ead85731d",
   "metadata": {},
   "outputs": [],
   "source": [
    "from queue import Full, Queue # 导入标准库中的 Full 和 Queue 类，Full 是用来表示队列满时的异常\n",
    "from time import monotonic as time # 从 time 库导入 monotonic 函数，并重命名为 time，用来获取不受系统时钟影响的单调时间\n",
    "\n",
    "# 定义 Dequeue 类，继承自 Queue 类，添加了 putleft 方法来在队列的左边插入元素\n",
    "class Dequeue(Queue):\n",
    "    # putleft 方法用于将元素插入队列的左侧\n",
    "    def putleft(self, item, block=True, timeout=None):\n",
    "        # self.not_full 是一个 Condition 对象，通常会与一个锁（Lock 或 RLock）一起使用。进入 with 语句时，Python 会自动获得该锁，从而\n",
    "        # 确保后续代码块内对共享资源（如队列）的访问是 线程安全 的。程序始终会进入\n",
    "        # wait() 方法是 Condition 类的一个特有方法， 并不是 self.not_full 特有的，而是所有 Condition 对象共有的方法。它用于使当前线\n",
    "        # 程 等待某个条件，并在等待期间释放锁。\n",
    "        with self.not_full:\n",
    "            if self.maxsize > 0: # 如果队列的最大大小大于0，即有限队列\n",
    "                if not block: # 如果 block=False，表示不阻塞插入，当队列满时直接抛出 Full 异常\n",
    "                    if self._qsize() >= self.maxsize:\n",
    "                        raise Full\n",
    "                elif timeout is None: # 如果 block=True，并且没有设置 timeout，阻塞等待直到队列有空余空间\n",
    "                    while self._qsize() >= self.maxsize:\n",
    "                        self.not_full.wait()\n",
    "                elif timeout < 0: # 如果 timeout < 0，抛出 ValueError 异常，因为 timeout 必须是非负数\n",
    "                    raise ValueError(\"'timeout' must be a non-negative number\")\n",
    "                else: # 如果 timeout 是非负数，计算结束时间，通过阻塞直到队列有空余空间\n",
    "                    endtime = time() + timeout # 计算结束时间\n",
    "                    while self._qsize() >= self.maxsize:  # 如果队列已满，阻塞等待直到队列空间空余\n",
    "                        remaining = endtime - time() # 计算剩余时间\n",
    "                        if remaining <= 0.0: # 如果剩余时间为负，则超时，抛出 Full 异常\n",
    "                            raise Full\n",
    "                        self.not_full.wait(remaining) # 等待剩余时间，直到有空间\n",
    "            self._putleft(item) # 在队列不满的时候，才会将元素插入队列。\n",
    "            self.unfinished_tasks += 1 # 增加未完成任务计数器\n",
    "            self.not_empty.notify() # 唤醒所有等待队列非空的线程，表示队列中有元素\n",
    "    # putleft_nowait 方法是 putleft 方法的简化版，不进行阻塞，如果队列已满，直接抛出 Full 异常\n",
    "    def putleft_nowait(self, item):\n",
    "        return self.putleft(item, block=False)\n",
    "    # _putleft 方法是将元素放入队列的左边，队列是双端队列（deque）\n",
    "    def _putleft(self, item):\n",
    "        self.queue.appendleft(item) "
   ]
  },
  {
   "cell_type": "code",
   "execution_count": 38,
   "id": "9f2a874b-f345-4c92-ab86-fe53f8192560",
   "metadata": {},
   "outputs": [],
   "source": [
    "q=Dequeue()"
   ]
  },
  {
   "cell_type": "code",
   "execution_count": 39,
   "id": "e1b02236-153a-435f-ac72-b2a80e81486d",
   "metadata": {},
   "outputs": [],
   "source": [
    "q.putleft({'1':2})"
   ]
  },
  {
   "cell_type": "code",
   "execution_count": 43,
   "id": "6f26feab-3414-4834-9747-8da531e438cd",
   "metadata": {},
   "outputs": [
    {
     "name": "stdout",
     "output_type": "stream",
     "text": [
      "[{'1': 2}]\n"
     ]
    }
   ],
   "source": [
    "print(list(q.queue))  # [30, 20, 10]"
   ]
  },
  {
   "cell_type": "code",
   "execution_count": 44,
   "id": "d380fab6-ca63-4236-835d-fdaf147c5e73",
   "metadata": {},
   "outputs": [
    {
     "data": {
      "text/plain": [
       "collections.deque"
      ]
     },
     "execution_count": 44,
     "metadata": {},
     "output_type": "execute_result"
    }
   ],
   "source": [
    "type(q.queue)"
   ]
  },
  {
   "cell_type": "code",
   "execution_count": 28,
   "id": "fbd54de3-0dbb-4d1d-9f74-731e24fe9922",
   "metadata": {},
   "outputs": [],
   "source": [
    "class Context:\n",
    "    # 初始化方法\n",
    "    # type：表示消息的类型，类型应该是 ContextType 枚举中的一种。默认为 None。\n",
    "    # content：表示消息的内容，可以是任何类型（文本、音频、文件等），默认为 None。\n",
    "    # kwargs：一个字典，用来存储其他附加的参数，默认为空字典 {}。\n",
    "    def __init__(self, type: ContextType = None, content=None, kwargs=dict()):\n",
    "        self.type = type\n",
    "        self.content = content\n",
    "        self.kwargs = kwargs\n",
    "    # 使 Context 对象支持 in 操作符。检查给定的键是否存在于 Context 中，首先检查 type 和 content 属性，然后检查 kwargs 字典。\n",
    "    # __contains__ 魔法方法可以让 Context 对象支持 in 操作符。因此，通过定义 __contains__ 方法，你可以实现诸如 \"origin_ctype\"\n",
    "    # not in context 这样的语法。\n",
    "    def __contains__(self, key):\n",
    "        if key == \"type\":\n",
    "            return self.type is not None\n",
    "        elif key == \"content\":\n",
    "            return self.content is not None\n",
    "        else:\n",
    "            return key in self.kwargs\n",
    "    # 使 Context 对象支持 [] 操作符来获取属性值。如果键是 type 或 content，返回相应的属性值，否则从 kwargs 字典中获取值。\n",
    "    def __getitem__(self, key):\n",
    "        if key == \"type\":\n",
    "            return self.type\n",
    "        elif key == \"content\":\n",
    "            return self.content\n",
    "        else:\n",
    "            return self.kwargs[key]\n",
    "    # 提供另一种方式来获取属性的值，并允许设置默认值。如果键存在于 Context 中，返回其值，否则返回默认值。\n",
    "    def get(self, key, default=None):\n",
    "        try:\n",
    "            return self[key]\n",
    "        except KeyError:\n",
    "            return default\n",
    "    #  使 Context 对象支持 [] 操作符来设置属性值。如果键是 type 或 content，设置相应的属性值，否则将值存储在 kwargs 字典中。\n",
    "    def __setitem__(self, key, value):\n",
    "        if key == \"type\":\n",
    "            self.type = value\n",
    "        elif key == \"content\":\n",
    "            self.content = value\n",
    "        else:\n",
    "            self.kwargs[key] = value\n",
    "    # 使 Context 对象支持 [] 操作符来删除属性。如果键是 type 或 content，将相应的属性设置为 None，否则从 kwargs 字典中删除该键。\n",
    "    def __delitem__(self, key):\n",
    "        if key == \"type\":\n",
    "            self.type = None\n",
    "        elif key == \"content\":\n",
    "            self.content = None\n",
    "        else:\n",
    "            del self.kwargs[key]\n",
    "    # 定义 Context 对象的字符串表示形式，方便打印输出\n",
    "    def __str__(self):\n",
    "        return \"Context(type={}, content={}, kwargs={})\".format(self.type, self.content, self.kwargs)"
   ]
  },
  {
   "cell_type": "code",
   "execution_count": 29,
   "id": "6109508d-50f7-401f-9ea5-c9b1d7532352",
   "metadata": {},
   "outputs": [],
   "source": [
    "c=Context(ContextType.TEXT,'hello')"
   ]
  },
  {
   "cell_type": "code",
   "execution_count": 8,
   "id": "a8dc7ee4-8a92-4b92-b66d-ade0179767c4",
   "metadata": {},
   "outputs": [],
   "source": [
    "def start_channel(channel_name: str):\n",
    "    # 通过 channel_factory 工厂创建一个相应的通道对象。\n",
    "    channel = channel_factory.create_channel(channel_name)\n",
    "    # 检查 channel_name 是否属于预定义的一组特定频道（如微信、飞书、钉钉等）。这个条件的目的是确定是否需要加载插件。\n",
    "    # wx, wxy: 微信相关,terminal: 终端相关,wechatmp, wechatmp_service: 微信公众号,web: Web应用相关\n",
    "    # wework: 企业微信,feishu: 飞书,dingtalk: 钉钉\n",
    "    if channel_name in [\"wx\", \"wxy\", \"terminal\", \"wechatmp\",\"web\", \"wechatmp_service\", \"wechatcom_app\", \"wework\",\n",
    "                        const.FEISHU, const.DINGTALK]:\n",
    "        # 如果 channel_name 在上述特定的频道列表中，那么就通过 PluginManager 类的 load_plugins 方法加载插件。\n",
    "        PluginManager().load_plugins()\n",
    "    # 检查配置中是否有一个名为 \"use_linkai\" 的设置，如果该设置为 True，则会启动一个与 LinkAI 相关的线程。\n",
    "    # conf() 可能是获取配置的函数，get(\"use_linkai\") 用来获取配置中的 \"use_linkai\" 值。如果这个值存在且为 \n",
    "    # True，则执行后续操作。\n",
    "    if conf().get(\"use_linkai\"):\n",
    "        # 在 try 块中执行与 LinkAI 相关的操作，尝试导入并启动 LinkAI 客户端。\n",
    "        # 这里的操作是在 use_linkai 配置项启用时，通过线程启动 LinkAI 客户端。\n",
    "        try:\n",
    "            # 导入 common 模块中的 linkai_client 对象，这个对象应该是与 LinkAI 服务交互的客户端。\n",
    "            from common import linkai_client\n",
    "            # 作用：通过 threading 模块启动一个新的线程，目标函数是 linkai_client.start，并传入 channel 作为参数。\n",
    "            # linkai_client.start(channel) 可能是启动 LinkAI 客户端并传入频道对象来进行某种初始化或任务处理。\n",
    "            # 新线程的启动是为了避免阻塞主程序的执行，确保 LinkAI 客户端能够并行运行。\n",
    "            # LinkAI 客户端是通过支线线程（子线程）启动的，而主线程则执行 channel.startup()。\n",
    "            threading.Thread(target=linkai_client.start, args=(channel,)).start()\n",
    "        # 作用：如果在导入或启动 linkai_client 的过程中发生异常，捕获并忽略这个异常。这里的 pass 语句表示异常发生时\n",
    "        # 不会执行任何操作，也不会影响程序的其余部分。\n",
    "        except Exception as e:\n",
    "            pass\n",
    "    # 作用：启动 channel，调用 channel 对象的 startup() 方法。这通常是执行频道的初始化任务（如连接、初始化状\n",
    "    # 态、打开服务等）。\n",
    "    channel.startup()"
   ]
  },
  {
   "cell_type": "code",
   "execution_count": 10,
   "id": "24416e2c-0820-476d-b8be-17f676754230",
   "metadata": {},
   "outputs": [
    {
     "data": {
      "text/plain": [
       "True"
      ]
     },
     "execution_count": 10,
     "metadata": {},
     "output_type": "execute_result"
    }
   ],
   "source": [
    "aa=signal.getsignal(signal.SIGINT)\n",
    "callable(aa)"
   ]
  },
  {
   "cell_type": "code",
   "execution_count": 9,
   "id": "3b41524b-3912-4b3e-a206-6605053cf277",
   "metadata": {},
   "outputs": [],
   "source": [
    "def run():\n",
    "    try:\n",
    "        # 加载配置和用户数据\n",
    "        load_config()\n",
    "        # signal.SIGINT 是一个常量，表示“中断信号”（通常是用户通过按下 Ctrl+C 发送的信号）。\n",
    "        # 如果没有按下 Ctrl+C，则不会触发 SIGINT 信号，程序将继续按正常流程运行。\n",
    "        sigterm_handler_wrap(signal.SIGINT)\n",
    "        # 用户手动终止进程：例如，在命令行使用 kill <pid> 命令，默认情况下发送的就是 SIGTERM。\n",
    "        sigterm_handler_wrap(signal.SIGTERM)\n",
    "        # 从配置文件中获取 channel_type 的值，默认为 \"wx\"\n",
    "        channel_name = conf().get(\"channel_type\", \"wx\")\n",
    "        # sys.argv 包含的是你传递给脚本的命令行参数，以及脚本本身的名称。\n",
    "        # 如果命令行参数中包含 --cmd，则将 channel_name 设置为 \"terminal\"，表示使用终端通道。\n",
    "        if \"--cmd\" in sys.argv:\n",
    "            channel_name = \"terminal\"\n",
    "        # 根据 channel_name 的值来设置环境变量 WECHATY_LOG，从而控制 Wechaty的日志级别。具体来说，\n",
    "        if channel_name == \"wxy\":\n",
    "            os.environ[\"WECHATY_LOG\"] = \"warn\" \n",
    "        # 调用 start_channel 函数启动指定名称的通道。\n",
    "        start_channel(channel_name)\n",
    "        # 使用一个无限循环和 time.sleep(1) 来保持主进程运行，防止程序退出。\n",
    "        # while True 和 time.sleep(1) 的组合是一种简单的方式，用来确保主进程持续运行，并且可以在接收到终止信号时进行\n",
    "        # 适当的清理工作。不过，在设计长期运行的应用时，考虑更加优雅的解决方案通常是值得的\n",
    "        while True:\n",
    "            time.sleep(1)\n",
    "    except Exception as e:\n",
    "        # 捕获所有未处理的异常，并记录错误信息和完整的异常堆栈信息。\n",
    "        logger.error(\"App startup failed!\")\n",
    "        logger.exception(e)"
   ]
  },
  {
   "cell_type": "code",
   "execution_count": null,
   "id": "7d1a09bf-1193-4490-9a99-3d246b2ddfc7",
   "metadata": {},
   "outputs": [],
   "source": []
  }
 ],
 "metadata": {
  "kernelspec": {
   "display_name": "Python 3 (ipykernel)",
   "language": "python",
   "name": "python3"
  },
  "language_info": {
   "codemirror_mode": {
    "name": "ipython",
    "version": 3
   },
   "file_extension": ".py",
   "mimetype": "text/x-python",
   "name": "python",
   "nbconvert_exporter": "python",
   "pygments_lexer": "ipython3",
   "version": "3.8.20"
  }
 },
 "nbformat": 4,
 "nbformat_minor": 5
}
